{
 "cells": [
  {
   "cell_type": "markdown",
   "metadata": {},
   "source": [
    "### Variational Quantum Circuit\n",
    "\n",
    "Variational Quantum Circuit or Parametrized Quantum Circuits are an important ingredient in Variational Algorithms like Variational Quantum Eigensolvers. They act as a bridge between the quantum and classical part of these hybrid variational algorithms. \n",
    "\n",
    "We generally, start with all zero states $|0\\rangle^{\\otimes n}$ and apply a quantum circuit with rotation gates $U_\\theta$ with free parameters so that we can later tune them. \n",
    "\n",
    "$$|\\psi_\\theta\\rangle=U_\\theta|\\phi \\rangle$$\n",
    "\n",
    "We obtain the cost function from the expectation value of these circuit. This cost function is classically optimized by tuning the parameters $\\theta = (\\theta_1 , \\theta_2 \\dots) $.\n",
    "\n",
    "These circuits are very crucial in the NISQ era because they contain low number of gates. But we have to remember that for these algorithms to work efficiently we have to choose an effective circuit that well represents the solution space while maintaining a low circuit depth and number of parameters.\n",
    "\n",
    "#### Let us see this in detail with implementing  the circuit to output the Bell's state"
   ]
  },
  {
   "cell_type": "code",
   "execution_count": null,
   "metadata": {},
   "outputs": [],
   "source": []
  }
 ],
 "metadata": {
  "kernelspec": {
   "display_name": "Python 3.8.5 64-bit ('quantum': conda)",
   "language": "python",
   "name": "python38564bitquantumcondac6d49497be9f46f4a52c048f3dd968a0"
  },
  "language_info": {
   "codemirror_mode": {
    "name": "ipython",
    "version": 3
   },
   "file_extension": ".py",
   "mimetype": "text/x-python",
   "name": "python",
   "nbconvert_exporter": "python",
   "pygments_lexer": "ipython3",
   "version": "3.6.12"
  }
 },
 "nbformat": 4,
 "nbformat_minor": 4
}
