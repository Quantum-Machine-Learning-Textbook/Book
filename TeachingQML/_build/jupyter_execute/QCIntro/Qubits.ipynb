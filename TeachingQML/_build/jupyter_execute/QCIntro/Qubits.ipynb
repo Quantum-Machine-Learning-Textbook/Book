{
 "cells": [
  {
   "cell_type": "markdown",
   "metadata": {},
   "source": [
    "# Qubits"
   ]
  },
  {
   "cell_type": "markdown",
   "metadata": {},
   "source": [
    "## Classical Binary Digits (Bits)\n",
    "\n",
    "Bits are the basic unit of information in classical computation, often represented by 0 and 1. Physically implemented using electronic circuits like Flip-Flops, a bit can be present in either 0 or 1 at a given time. Any information can be encoded using this basic unit. To get better precision, we can simply use more number of bits, thereby taking up more memory."
   ]
  },
  {
   "cell_type": "markdown",
   "metadata": {},
   "source": [
    "## Quantum Binary Digits (Qubits)\n",
    "\n",
    "Quantum Bits, referred to as qubits, are the quantum analogue of bits. Qubits are, therefore, the basic unit of information in quantum computation and hence, a generalisation of the bits.\n",
    "A convenient way of representing qubits is the statevector notation which uses a column vector representation for the state of the qubits. For the classical 0 and 1, the qubit is represented by:\n",
    "\n",
    "\\begin{equation}\n",
    "    |0\\rangle = \\begin{bmatrix} 1 \\\\ 0 \\end{bmatrix} \\, \\, \\, \\, |1\\rangle =\\begin{bmatrix} 0 \\\\ 1 \\end{bmatrix}\n",
    "\\end{equation}\n",
    "\n",
    "Note that these two vectors form an orthogonal basis."
   ]
  },
  {
   "cell_type": "code",
   "execution_count": 1,
   "metadata": {},
   "outputs": [],
   "source": [
    "from qiskit import QuantumCircuit\n",
    "from qiskit import execute, Aer\n",
    "from qiskit.visualization import plot_histogram"
   ]
  },
  {
   "cell_type": "code",
   "execution_count": 2,
   "metadata": {},
   "outputs": [
    {
     "name": "stdout",
     "output_type": "stream",
     "text": [
      "[1.+0.j 0.+0.j]\n"
     ]
    }
   ],
   "source": [
    "qc0 = QuantumCircuit(1,1)\n",
    "\n",
    "backend = Aer.get_backend('statevector_simulator')\n",
    "result = execute(qc0,backend).result()\n",
    "out_state = result.get_statevector()\n",
    "print(out_state)"
   ]
  },
  {
   "cell_type": "code",
   "execution_count": 3,
   "metadata": {},
   "outputs": [
    {
     "name": "stdout",
     "output_type": "stream",
     "text": [
      "[0.+0.j 1.+0.j]\n"
     ]
    }
   ],
   "source": [
    "qc1 = QuantumCircuit(1,1)\n",
    "qc1.initialize([0,1], 0)\n",
    "\n",
    "backend = Aer.get_backend('statevector_simulator')\n",
    "result = execute(qc1,backend).result()\n",
    "out_state = result.get_statevector()\n",
    "print(out_state)"
   ]
  },
  {
   "cell_type": "markdown",
   "metadata": {},
   "source": [
    "### Dirac Notation\n",
    "The above notation, $|\\psi\\rangle$, was introduced by Paul Dirac, and hence is also commonly called the Dirac notation or Bra-Ket notation.\n",
    "$|\\psi\\rangle$ is called \"Ket Psi\" (as \"Ket Zero\" for $|0\\rangle$).\n",
    "The conjugate transpose of $|\\psi\\rangle$ is represented by $\\langle\\psi|$, called \"Bra Psi\" (as \"Bra Zero\" for $\\langle0|$)."
   ]
  },
  {
   "cell_type": "markdown",
   "metadata": {},
   "source": [
    "# Superposition\n",
    "\n",
    "What makes qubits a generalisation of classical bits is the property of being in a \"superposition\" of states.\n",
    "\n",
    "\\begin{equation}\n",
    "    |\\psi\\rangle = \\begin{bmatrix} \\alpha \\\\ \\beta \\end{bmatrix}\n",
    "\\end{equation}\n",
    "\n",
    "which is equivalent to writing\n",
    "\n",
    "\\begin{equation}\n",
    "    |\\psi\\rangle = \\alpha \\begin{bmatrix} 1 \\\\ 0 \\end{bmatrix} + \\beta \\begin{bmatrix} 0 \\\\ 1 \\end{bmatrix} \\\\\n",
    "                 = \\alpha |0\\rangle + \\beta |1\\rangle\n",
    "\\end{equation}\n",
    "\n",
    "Here, the $\\alpha$ and $\\beta$ are complex numbers which represent what are called the \"Probability Amplitude\" of $|0\\rangle$ and $|1\\rangle$.\n",
    "It is the square (more technically, the L2 norm) of this probability amplitude which gives the actual probability of obtaining the corresponding state upon measurement.\n",
    "Since the sum of probabilities is always equal to 1, $|\\alpha|^2 + |\\beta|^2 = 1$, for any state $|\\psi\\rangle$."
   ]
  },
  {
   "cell_type": "code",
   "execution_count": 4,
   "metadata": {},
   "outputs": [
    {
     "name": "stdout",
     "output_type": "stream",
     "text": [
      "[0.70710678+0.j 0.70710678+0.j]\n"
     ]
    }
   ],
   "source": [
    "qc2 = QuantumCircuit(1,1)\n",
    "qc2.initialize([(1/2**0.5),(1/2**0.5)],0)\n",
    "\n",
    "backend = Aer.get_backend('statevector_simulator')\n",
    "result = execute(qc2,backend).result()\n",
    "out_state = result.get_statevector()\n",
    "print(out_state)"
   ]
  },
  {
   "cell_type": "markdown",
   "metadata": {},
   "source": [
    "# Measurement\n",
    "\n",
    "Measurement of a qubit can be thought of as observing the state of the qubit. It is an operation which \"collapses\" the state of the qubit into the measured state.\n",
    "For a qubit $|\\psi\\rangle = \\alpha|0\\rangle + \\beta|1\\rangle$, when measured in the computational basis ($|0\\rangle$ and $|1\\rangle$), the probabilities of measuring the state to be $|0\\rangle$ is $|\\alpha|^2$, and $|1\\rangle$ is $|\\beta|^2$.\n",
    "\n",
    "The probability of observing a state $|\\phi\\rangle$ upon measuring a qubit $|\\psi\\rangle$ can be calculated by:\n",
    "\\begin{equation}\n",
    "    P(\\phi) = |\\langle\\phi|\\psi\\rangle|^2\n",
    "\\end{equation}\n",
    "\n",
    "We can easily verify our knowledge of the probabilities of measuring $|0\\rangle$ and $|1\\rangle$ using the above formula."
   ]
  },
  {
   "cell_type": "code",
   "execution_count": 5,
   "metadata": {},
   "outputs": [
    {
     "data": {
      "text/html": [
       "<pre style=\"word-wrap: normal;white-space: pre;background: #fff0;line-height: 1.1;font-family: &quot;Courier New&quot;,Courier,monospace\">        ┌─────────────────────┐ ░ ┌─┐\n",
       "   q_0: ┤ initialize(0.6,0.8) ├─░─┤M├\n",
       "        └─────────────────────┘ ░ └╥┘\n",
       "meas: 1/═══════════════════════════╩═\n",
       "                                   0 </pre>"
      ],
      "text/plain": [
       "        ┌─────────────────────┐ ░ ┌─┐\n",
       "   q_0: ┤ initialize(0.6,0.8) ├─░─┤M├\n",
       "        └─────────────────────┘ ░ └╥┘\n",
       "meas: 1/═══════════════════════════╩═\n",
       "                                   0 "
      ]
     },
     "execution_count": 5,
     "metadata": {},
     "output_type": "execute_result"
    }
   ],
   "source": [
    "qc3 = QuantumCircuit(1)\n",
    "qc3.initialize([0.6,0.8],0)\n",
    "qc3.measure_all()\n",
    "qc3.draw()"
   ]
  },
  {
   "cell_type": "code",
   "execution_count": 6,
   "metadata": {},
   "outputs": [
    {
     "data": {
      "image/png": "[encoded data removed]",
      "text/plain": [
       "<Figure size 504x360 with 1 Axes>"
      ]
     },
     "execution_count": 6,
     "metadata": {
      "filenames": {
       "image/png": "/home/stark/TeachingQML/TeachingQML/TeachingQML/TeachingQML/TeachingQML/_build/jupyter_execute/QCIntro/Qubits_11_0.png"
      }
     },
     "output_type": "execute_result"
    }
   ],
   "source": [
    "backend = Aer.get_backend('qasm_simulator')\n",
    "result = execute(qc3,backend).result()\n",
    "counts = result.get_counts()\n",
    "plot_histogram(counts)"
   ]
  }
 ],
 "metadata": {
  "kernelspec": {
   "display_name": "Python 3",
   "language": "python",
   "name": "python3"
  },
  "language_info": {
   "codemirror_mode": {
    "name": "ipython",
    "version": 3
   },
   "file_extension": ".py",
   "mimetype": "text/x-python",
   "name": "python",
   "nbconvert_exporter": "python",
   "pygments_lexer": "ipython3",
   "version": "3.6.9"
  }
 },
 "nbformat": 4,
 "nbformat_minor": 4
}