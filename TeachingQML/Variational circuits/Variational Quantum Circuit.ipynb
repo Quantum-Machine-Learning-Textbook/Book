{
 "cells": [
  {
   "cell_type": "markdown",
   "metadata": {},
   "source": [
    "# Variational Quantum Circuit\n",
    "\n",
    "Variational Quantum Circuit or Parametrized Quantum Circuits are an important ingredient in Variational Algorithms like Variational Quantum Eigensolvers. They act as a bridge between the quantum and classical part of these hybrid variational algorithms. \n",
    "\n",
    "We generally, start with all zero states $|0\\rangle^{\\otimes n}$ and apply a quantum circuit with rotation gates $U_\\theta$ with free parameters so that we can later tune them. \n",
    "\n",
    "$$|\\psi_\\theta\\rangle=U_\\theta|\\phi \\rangle$$\n",
    "\n",
    "We obtain the cost function from the expectation value of these circuit. This cost function is classically optimized by tuning the parameters $\\theta = (\\theta_1 , \\theta_2 \\dots) $.\n",
    "\n",
    "# ADD AN ILLUSTRATION\n",
    "\n",
    "These circuits are very crucial in the NISQ era because they contain low number of gates. But we have to remember that for these algorithms to work efficiently we have to choose an effective circuit that well represents the solution space while maintaining a low circuit depth and number of parameters.\n",
    "\n",
    "## Example to understand this in detail\n",
    "\n",
    "### Implement a variational circuit that returns $|0\\rangle$ and $|1\\rangle$ with equal probability."
   ]
  },
  {
   "cell_type": "markdown",
   "metadata": {},
   "source": [
    "#### Importing the libraries (Using Pennylane for this example)"
   ]
  },
  {
   "cell_type": "code",
   "execution_count": null,
   "metadata": {},
   "outputs": [],
   "source": [
    "import pennylane as qml\n",
    "import numpy as np\n",
    "import matplotlib.pyplot as plt"
   ]
  },
  {
   "cell_type": "markdown",
   "metadata": {},
   "source": [
    "In this problem we have to essentially create the state $ \\tfrac{1}{\\sqrt{2}}(|0\\rangle + e^{i\\theta}|1\\rangle)$, where $e^{i\\theta}$ is the global phase from $|0\\rangle$. We already know that the conversion from $|0\\rangle$ state to $\\tfrac{1}{\\sqrt{2}}(|0\\rangle + |1\\rangle)$ can be easily achieved by Hadamard gate. But for the sake of understanding this problem we will use rotation gates."
   ]
  },
  {
   "cell_type": "markdown",
   "metadata": {},
   "source": [
    "#### Creating the variational circuit"
   ]
  },
  {
   "cell_type": "code",
   "execution_count": null,
   "metadata": {},
   "outputs": [],
   "source": [
    "number_qubits = 1\n",
    "\n",
    "dev = qml.device(\"qiskit.aer\", wires=number_qubits, shots=1000, analytic=False)\n",
    "\n",
    "@qml.qnode(dev)\n",
    "def state(theta):\n",
    "    \n",
    "    qml.RY(theta[0], wires=0)\n",
    "    \n",
    "    return qml.probs(wires=[0])\n"
   ]
  },
  {
   "cell_type": "code",
   "execution_count": null,
   "metadata": {},
   "outputs": [],
   "source": []
  },
  {
   "cell_type": "markdown",
   "metadata": {},
   "source": [
    "### ADD A PHOTO OF CIRCUIT"
   ]
  },
  {
   "cell_type": "markdown",
   "metadata": {},
   "source": [
    "#### Creating the cost function"
   ]
  },
  {
   "cell_type": "markdown",
   "metadata": {},
   "source": [
    "`qml.probs()` returns a flat array or tensor containing the (marginal) probabilities of each quantum state in the lexigrophic ordering. \n",
    "\n",
    "Hence the first value of the array corresponds to probability of the state '0' and the second value to the state '1'.\n",
    "\n",
    "Both the states should be equally probable, therefore, the probability of the following states should be:\n",
    "$$|0\\rangle \\rightarrow 0.5 $$\n",
    "$$|1\\rangle \\rightarrow 0.5 $$\n",
    "\n",
    "The cost function should be,\n",
    " `((prob_0-0.5)**2 + (prob_1-0.5)**2) `.\n",
    " Minimizing this will get our results."
   ]
  },
  {
   "cell_type": "code",
   "execution_count": null,
   "metadata": {},
   "outputs": [],
   "source": [
    "def cost(theta):           #cost function for noisy simulation\n",
    "    prob_0, prob_1 = state(theta)\n",
    "    return ((prob_0-0.5)**2 + (prob_1-0.5)**2)"
   ]
  },
  {
   "cell_type": "markdown",
   "metadata": {},
   "source": [
    "#### Finding the optimal paremeters using classical optimizer (Gradient Descent)"
   ]
  },
  {
   "cell_type": "code",
   "execution_count": null,
   "metadata": {},
   "outputs": [],
   "source": [
    "for num_shots in [1, 10, 100, 1000]:\n",
    "    dev.shots = num_shots\n",
    "    initial_parameters = np.random.randn(1) #starting with random parameters\n",
    "    \n",
    "    steps = 40 # Number of steps of optimization\n",
    "    \n",
    "    parameters = initial_parameters.copy()\n",
    "    \n",
    "    optimizer = qml.GradientDescentOptimizer(stepsize=0.6) #The Gradient Descent Optimizer\n",
    "    \n",
    "    costs = []\n",
    "    \n",
    "    print('--------------------------------\\n')\n",
    "    print('For {0} shots\\n'.format(num_shots))\n",
    "    for i in range(steps):\n",
    "        costs.append(cost(parameters))\n",
    "        parameters = optimizer.step(cost, parameters)\n",
    "        \n",
    "        if (i%10 == 0):\n",
    "            print('The cost for {0} measurement sampling is {1}\\n'.format(num_shots, cost(parameters)))\n",
    "            print('The parameters are {0}\\n'.format(parameters))\n",
    "    all_costs.append(costs)\n",
    "\n",
    "    p = [0, 0]\n",
    "    p[0], p[1] = state(parameters)\n",
    "    print('Final probability of states is as follows: \\n')\n",
    "    print('\\n Probality of 0 is: {0} \\n Probality of 1 is: {1}'.format(p[0], p[1]))\n",
    "    prob.append(p)"
   ]
  },
  {
   "cell_type": "code",
   "execution_count": null,
   "metadata": {},
   "outputs": [],
   "source": [
    "print('We get the final parameter as {0}.'.format(parameters))"
   ]
  },
  {
   "cell_type": "markdown",
   "metadata": {},
   "source": [
    "### Probability Distribution"
   ]
  },
  {
   "cell_type": "code",
   "execution_count": null,
   "metadata": {},
   "outputs": [],
   "source": [
    "plt.bar(['0', '1'], prob[0]) #Probability Distribution for shots 1"
   ]
  },
  {
   "cell_type": "code",
   "execution_count": null,
   "metadata": {},
   "outputs": [],
   "source": [
    "plt.bar(['0', '1'], prob[1]) #Probability Distribution for shots 10"
   ]
  },
  {
   "cell_type": "code",
   "execution_count": null,
   "metadata": {},
   "outputs": [],
   "source": [
    "plt.bar(['0', '1'], prob[2]) #Probability Distribution for shots 100"
   ]
  },
  {
   "cell_type": "code",
   "execution_count": null,
   "metadata": {},
   "outputs": [],
   "source": [
    "plt.bar(['0', '1'], prob[3]) #Probability Distribution for shots 1000"
   ]
  },
  {
   "cell_type": "code",
   "execution_count": null,
   "metadata": {},
   "outputs": [],
   "source": []
  },
  {
   "cell_type": "code",
   "execution_count": null,
   "metadata": {},
   "outputs": [],
   "source": []
  }
 ],
 "metadata": {
  "kernelspec": {
   "display_name": "Python 3.8.5 64-bit ('quantum': conda)",
   "language": "python",
   "name": "python38564bitquantumcondac6d49497be9f46f4a52c048f3dd968a0"
  },
  "language_info": {
   "codemirror_mode": {
    "name": "ipython",
    "version": 3
   },
   "file_extension": ".py",
   "mimetype": "text/x-python",
   "name": "python",
   "nbconvert_exporter": "python",
   "pygments_lexer": "ipython3",
   "version": "3.6.12"
  }
 },
 "nbformat": 4,
 "nbformat_minor": 4
}
