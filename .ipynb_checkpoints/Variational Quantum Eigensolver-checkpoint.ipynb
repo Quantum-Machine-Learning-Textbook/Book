{
 "cells": [
  {
   "cell_type": "markdown",
   "metadata": {},
   "source": [
    "# Variational Quantum Eigensolver"
   ]
  },
  {
   "cell_type": "markdown",
   "metadata": {},
   "source": [
    "Variational Quantum Eigensolver (VQE) is a hybrid classical algorithm that uses the variational paradigm to find the smallest eigenvalue of the given Hamiltonian. It is generally used in Quantum Chemistry to find the lowest energy of the molecule. This algorithm can also be used to solve combinatorial optimization problems, where cost function can be displayed as the Hamiltonian. \n",
    "\n",
    "This algorithm is particularly important in NISQ (Noisy Intermediate-Scale Quantum) era because it requires less number of gates than it's counterpart Iterative Quantum Phase Estimation. Higher number of gates lead to higher noise hence, IQPE is more prone to error compared to VQE.\n",
    "\n",
    "\n",
    "### Explaining VQE\n",
    "\n",
    "Any Hamiltonian might be written as,\n",
    "\n",
    "$$ \\langle H\\rangle = \\sum\\limits_{i\\alpha} h_{\\alpha}^i \\langle\\sigma_{\\alpha}^i\\rangle + \\sum\\limits_{ij\\alpha\\beta} h_{\\alpha\\beta}^{ij} \\langle\\sigma_{\\alpha}^{i}\\sigma_{\\beta}^{j}\\rangle + \\dots$$\n",
    "\n",
    "where, $i$,$j$... identify the subsystem on Hamiltonian act and $\\alpha$, $\\beta$... are Pauli operator, hence, it can be $x$, $y$, $z$ and $i$\n",
    "\n",
    "For example, for one qubit system,\n",
    "\n",
    "\n",
    "$$\\langle H\\rangle=\\langle \\psi|H|\\psi\\rangle=a\\cdot\\langle\\psi|I|\\psi\\rangle+b\\cdot\\langle\\psi|Z|\\psi\\rangle +c\\cdot\\langle\\psi|Y|\\psi\\rangle + +d\\cdot\\langle\\psi|X|\\psi\\rangle$$\n",
    "\n",
    "Thus, the evaluation of $\\langle H \\rangle$reduces to the sum of a polynomial number of expectation values of simple Pauli operators for a quantum state $\\psi$, multiplied by some real constants. A quantum device can efficiently evaluate the expectation value of a tensor product of an arbitrary number of simple Pauli operators. Therefore, with an n-qubit state we can efficiently evaluate the expectation value of this $2^n \\times 2^n$\n",
    "Hamiltonian.\n",
    "\n",
    "Now as we have the expectation value of our Hamiltonian, we can use it to find the ground state energy through the variational principle.\n",
    "\n",
    "Relation between eigenvectors $|\\psi\\rangle$ and eigenvalues $\\lambda$ can be given by,\n",
    "\n",
    "$$H|\\psi\\rangle = \\lambda \\psi$$\n",
    "\n",
    "The eigenvector $|\\psi\\rangle$ corresponding to the lowest eigenvalue is the $|\\psi\\rangle$ that minimizes,\n",
    "\n",
    "$$\\frac{\\langle \\psi|H|\\psi\\rangle}{\\langle \\psi|\\psi\\rangle}$$\n",
    "\n",
    "Or we can also say,\n",
    "\n",
    "$$\\langle \\psi|H|\\psi\\rangle>=E_0$$\n",
    "\n",
    "This simply means that $E_{0}$ is the lowest energy eigenstate (ground state) of $H$ and this is also known as the **variational principle**.\n",
    "\n",
    "#### Variational form\n",
    "\n",
    "The algorithm basically goes over every state $|\\psi\\rangle$ and checks which one of them has the minimum expectation value so that we can find out our lowest eigenvalue. For checking every state we have to create a parametrized circuit (anstanz) that covers each and every possible state. Picking a 'good' anstanz from all possible is an art. The circuit should be created such that it doesn't have many parameters and gates (should be shallow).\n",
    "\n",
    "#### Parameter optimization\n",
    "\n",
    "Now the easy classical work where you have to optimize your parameters for giving you the minimum expectation value. You can use any prebuilt classical optimizer for it or even create your own. "
   ]
  },
  {
   "cell_type": "code",
   "execution_count": null,
   "metadata": {},
   "outputs": [],
   "source": []
  }
 ],
 "metadata": {
  "kernelspec": {
   "display_name": "Python 3.8.5 64-bit ('quantum': conda)",
   "language": "python",
   "name": "python38564bitquantumcondac6d49497be9f46f4a52c048f3dd968a0"
  },
  "language_info": {
   "codemirror_mode": {
    "name": "ipython",
    "version": 3
   },
   "file_extension": ".py",
   "mimetype": "text/x-python",
   "name": "python",
   "nbconvert_exporter": "python",
   "pygments_lexer": "ipython3",
   "version": "3.6.12"
  }
 },
 "nbformat": 4,
 "nbformat_minor": 4
}
