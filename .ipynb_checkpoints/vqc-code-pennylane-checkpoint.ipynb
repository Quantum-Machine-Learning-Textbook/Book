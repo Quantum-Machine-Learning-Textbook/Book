{
 "cells": [
  {
   "cell_type": "markdown",
   "metadata": {},
   "source": [
    "## Task 2\n",
    "\n",
    "### Question\n",
    "Implement a circuit that returns $|01\\rangle$ and $|10\\rangle$ with equal probability.\n",
    "\n",
    "\n",
    "#### Bonus question:\n",
    "How to make sure you produce state $|01\\rangle$ + $|10\\rangle$ and not $|01\\rangle$ - $|10\\rangle$ ?\n"
   ]
  },
  {
   "cell_type": "markdown",
   "metadata": {},
   "source": []
  },
  {
   "cell_type": "markdown",
   "metadata": {},
   "source": [
    "Import the required libraries"
   ]
  },
  {
   "cell_type": "code",
   "execution_count": 1,
   "metadata": {},
   "outputs": [],
   "source": [
    "import pennylane as qml\n",
    "import numpy as np\n",
    "import matplotlib.pyplot as plt\n",
    "\n",
    "from qiskit import *\n",
    "from qiskit.providers.aer.noise import NoiseModel"
   ]
  },
  {
   "cell_type": "markdown",
   "metadata": {},
   "source": [
    "Import the noise model"
   ]
  },
  {
   "cell_type": "code",
   "execution_count": 2,
   "metadata": {},
   "outputs": [
    {
     "name": "stderr",
     "output_type": "stream",
     "text": [
      "/home/rochisha/anaconda3/envs/quantum/lib/python3.8/site-packages/qiskit/providers/ibmq/ibmqfactory.py:192: UserWarning: Timestamps in IBMQ backend properties, jobs, and job results are all now in local time instead of UTC.\n",
      "  warnings.warn('Timestamps in IBMQ backend properties, jobs, and job results '\n"
     ]
    }
   ],
   "source": [
    "provider = IBMQ.load_account()\n",
    "backend = provider.get_backend('ibmq_vigo')\n",
    "noise_model = NoiseModel.from_backend(backend)"
   ]
  },
  {
   "cell_type": "markdown",
   "metadata": {},
   "source": [
    "We need the state $\\tfrac{1}{\\sqrt{2}}(|01\\rangle + |10\\rangle)$. Essentially this state is a Bell's State that can be developed by applying creating a superposition through Hadamard Gate.\n",
    "\n",
    "$$|0\\rangle \\otimes |1\\rangle \\rightarrow \\tfrac{1}{\\sqrt{2}}(|0\\rangle + |1\\rangle)  \\otimes |1\\rangle$$\n",
    "$$|1\\rangle \\otimes |1\\rangle \\rightarrow \\tfrac{1}{\\sqrt{2}}(|0\\rangle - |1\\rangle)  \\otimes |1\\rangle$$\n",
    "\n",
    "Then apply a CNOT gate which gives,\n",
    "$$\\tfrac{1}{\\sqrt{2}}(|0\\rangle + |1\\rangle)  \\otimes |1\\rangle \\rightarrow \\tfrac{1}{\\sqrt{2}}(|01\\rangle + |10\\rangle)$$\n",
    "$$\\tfrac{1}{\\sqrt{2}}(|0\\rangle - |1\\rangle)  \\otimes |1\\rangle \\rightarrow \\tfrac{1}{\\sqrt{2}}(|01\\rangle - |10\\rangle)$$\n",
    "\n",
    "But for the sake of the task we have to use Rx and Ry gates and find the parameters through optimization."
   ]
  },
  {
   "cell_type": "markdown",
   "metadata": {},
   "source": [
    "#### Creating the circuit with H and X and CNOT"
   ]
  },
  {
   "cell_type": "code",
   "execution_count": 3,
   "metadata": {},
   "outputs": [
    {
     "data": {
      "text/plain": [
       "array([0.013, 0.48 , 0.49 , 0.017])"
      ]
     },
     "execution_count": 3,
     "metadata": {},
     "output_type": "execute_result"
    }
   ],
   "source": [
    "number_qubits = 2\n",
    "\n",
    "dev1 = qml.device(\"qiskit.aer\", wires=number_qubits, shots=1000, noise_model = noise_model, analytic=False)\n",
    "#initialized the device with analytics= False because we will change the no. of shots for sampling\n",
    "\n",
    "@qml.qnode(dev1)\n",
    "def psi():\n",
    "    \n",
    "    qml.Hadamard(wires=0)\n",
    "    \n",
    "    qml.PauliX(wires=1)\n",
    "    \n",
    "    qml.CNOT(wires=[0, 1])\n",
    "    \n",
    "    #Return probablity of states in lexigrophical ordering '00', '01', '10', '11'\n",
    "    return qml.probs(wires=[0,1]) \n",
    "\n",
    "psi()"
   ]
  },
  {
   "cell_type": "markdown",
   "metadata": {},
   "source": [
    "#### Creating the circuit with parametrized Rx, Ry (we take two parameters). I don't add RX gate on the qubits because it adds an unnecessary phase of $-i$. "
   ]
  },
  {
   "cell_type": "code",
   "execution_count": 4,
   "metadata": {},
   "outputs": [],
   "source": [
    "def circ(theta):\n",
    "    qml.RY(theta[0], wires=0)\n",
    "    \n",
    "    qml.RY(theta[1], wires=1)\n",
    "    \n",
    "    qml.CNOT(wires=[0, 1])"
   ]
  },
  {
   "cell_type": "markdown",
   "metadata": {},
   "source": [
    "#### Intitalizing the circuit with noise"
   ]
  },
  {
   "cell_type": "code",
   "execution_count": 5,
   "metadata": {},
   "outputs": [],
   "source": [
    "number_qubits = 2\n",
    "\n",
    "dev = qml.device(\"qiskit.aer\", wires=number_qubits, shots=1000, noise_model = noise_model, analytic=False)\n",
    "\n",
    "@qml.qnode(dev)\n",
    "def bell_state(theta):\n",
    "    \n",
    "    circ(theta)\n",
    "    \n",
    "    return qml.probs(wires=[0,1])\n"
   ]
  },
  {
   "cell_type": "markdown",
   "metadata": {},
   "source": [
    "#### Without noise"
   ]
  },
  {
   "cell_type": "code",
   "execution_count": 6,
   "metadata": {},
   "outputs": [],
   "source": [
    "number_qubits = 2\n",
    "\n",
    "dev_noiseless = qml.device(\"qiskit.aer\", wires=number_qubits, shots=1000, analytic=False)\n",
    "\n",
    "@qml.qnode(dev_noiseless)\n",
    "def bell_state_noiseless(theta):\n",
    "    \n",
    "    circ(theta)\n",
    "    \n",
    "    return qml.probs(wires=[0,1])"
   ]
  },
  {
   "cell_type": "markdown",
   "metadata": {},
   "source": [
    "`qml.probs()` will return a flat array or tensor containing the (marginal) probabilities of each quantum state in the lexigrophic ordering. \n",
    "\n",
    "Hence first value of the array corresponds to probability of state '00', second '01', third '10' and fourth '11'\n",
    "\n",
    "We have to get the probablity of state,\n",
    "$$00 \\rightarrow 0 $$\n",
    "$$01 \\rightarrow 0.5 $$\n",
    "$$10 \\rightarrow 0.5 $$\n",
    "$$11 \\rightarrow 0 $$\n",
    "\n",
    "We have to minimize,\n",
    " `((prob_00-0)**2 + (prob_01-0.5)**2 + (prob_10-0.5)**2 + (prob_11-0)**2)`"
   ]
  },
  {
   "cell_type": "code",
   "execution_count": 7,
   "metadata": {},
   "outputs": [],
   "source": [
    "def cost(theta):           #cost function for noisy simulation\n",
    "    prob_00, prob_01, prob_10, prob_11 = bell_state(theta)\n",
    "    return ((prob_00-0)**2 + (prob_01-0.5)**2 + (prob_10-0.5)**2 + (prob_11-0)**2)"
   ]
  },
  {
   "cell_type": "code",
   "execution_count": 8,
   "metadata": {},
   "outputs": [],
   "source": [
    "def cost_noiseless(theta):          #cost function for noiseless simulation\n",
    "    prob_00, prob_01, prob_10, prob_11 = bell_state_noiseless(theta)\n",
    "    return ((prob_00-0)**2 + (prob_01-0.5)**2 + (prob_10-0.5)**2 + (prob_11-0)**2)"
   ]
  },
  {
   "cell_type": "markdown",
   "metadata": {},
   "source": [
    "Now we have to find the parameters by the Gradient Descent Optimizer (given in the library) and minimize the cost."
   ]
  },
  {
   "cell_type": "code",
   "execution_count": 9,
   "metadata": {},
   "outputs": [
    {
     "name": "stdout",
     "output_type": "stream",
     "text": [
      "--------------------------------\n",
      "\n",
      "For 1 shots\n",
      "\n",
      "The cost for 1 measurement sampling is 1.5\n",
      "\n",
      "The parameters are [ 0.52120087 -1.63620943]\n",
      "\n",
      "The cost for 1 measurement sampling is 0.5\n",
      "\n",
      "The parameters are [ 1.42120087 -2.23620943]\n",
      "\n",
      "The cost for 1 measurement sampling is 0.5\n",
      "\n",
      "The parameters are [ 1.42120087 -2.53620943]\n",
      "\n",
      "The cost for 1 measurement sampling is 0.5\n",
      "\n",
      "The parameters are [ 2.02120087 -2.83620943]\n",
      "\n",
      "Final probability of states is as follows: \n",
      "\n",
      "\n",
      " Probality of 00 is: 1.0 \n",
      " Probality of 01 is: 0.0 \n",
      " Probality of 10 is: 0.0 \n",
      " Probality of 11 is: 0.0\n",
      "--------------------------------\n",
      "\n",
      "For 10 shots\n",
      "\n",
      "The cost for 10 measurement sampling is 0.54\n",
      "\n",
      "The parameters are [-1.86408683 -1.1062925 ]\n",
      "\n",
      "The cost for 10 measurement sampling is 0.019999999999999997\n",
      "\n",
      "The parameters are [-1.64208683 -2.7082925 ]\n",
      "\n",
      "The cost for 10 measurement sampling is 0.07999999999999999\n",
      "\n",
      "The parameters are [-1.60008683 -2.7982925 ]\n",
      "\n",
      "The cost for 10 measurement sampling is 0.18000000000000002\n",
      "\n",
      "The parameters are [-1.87008683 -2.9242925 ]\n",
      "\n",
      "Final probability of states is as follows: \n",
      "\n",
      "\n",
      " Probality of 00 is: 0.0 \n",
      " Probality of 01 is: 0.5 \n",
      " Probality of 10 is: 0.5 \n",
      " Probality of 11 is: 0.0\n",
      "--------------------------------\n",
      "\n",
      "For 100 shots\n",
      "\n",
      "The cost for 100 measurement sampling is 0.7320000000000001\n",
      "\n",
      "The parameters are [0.31439881 0.96745332]\n",
      "\n",
      "The cost for 100 measurement sampling is 0.0126\n",
      "\n",
      "The parameters are [1.49081881 2.51623332]\n",
      "\n",
      "The cost for 100 measurement sampling is 0.0308\n",
      "\n",
      "The parameters are [1.66709881 2.77057332]\n",
      "\n",
      "The cost for 100 measurement sampling is 0.0036000000000000034\n",
      "\n",
      "The parameters are [1.57055881 2.87659332]\n",
      "\n",
      "Final probability of states is as follows: \n",
      "\n",
      "\n",
      " Probality of 00 is: 0.03 \n",
      " Probality of 01 is: 0.4 \n",
      " Probality of 10 is: 0.52 \n",
      " Probality of 11 is: 0.05\n",
      "--------------------------------\n",
      "\n",
      "For 1000 shots\n",
      "\n",
      "The cost for 1000 measurement sampling is 0.5684939999999999\n",
      "\n",
      "The parameters are [1.31109018 1.04221305]\n",
      "\n",
      "The cost for 1000 measurement sampling is 0.010050000000000003\n",
      "\n",
      "The parameters are [1.59610338 2.56909665]\n",
      "\n",
      "The cost for 1000 measurement sampling is 0.006292000000000001\n",
      "\n",
      "The parameters are [1.59194838 2.78102505]\n",
      "\n",
      "The cost for 1000 measurement sampling is 0.003085999999999999\n",
      "\n",
      "The parameters are [1.57067538 2.87702325]\n",
      "\n",
      "Final probability of states is as follows: \n",
      "\n",
      "\n",
      " Probality of 00 is: 0.022 \n",
      " Probality of 01 is: 0.519 \n",
      " Probality of 10 is: 0.439 \n",
      " Probality of 11 is: 0.02\n"
     ]
    }
   ],
   "source": [
    "prob = []\n",
    "all_costs = []\n",
    "\n",
    "for num_shots in [1, 10, 100, 1000]:\n",
    "    dev.shots = num_shots\n",
    "    initial_parameters = np.random.randn(2) #starting with random parameters\n",
    "    \n",
    "    steps = 40 # Number of steps of optimization\n",
    "    \n",
    "    parameters = initial_parameters.copy()\n",
    "    \n",
    "    optimizer = qml.GradientDescentOptimizer(stepsize=0.6) #The Gradient Descent Optimizer\n",
    "    \n",
    "    costs = []\n",
    "    \n",
    "    print('--------------------------------\\n')\n",
    "    print('For {0} shots\\n'.format(num_shots))\n",
    "    for i in range(steps):\n",
    "        costs.append(cost(parameters))\n",
    "        parameters = optimizer.step(cost, parameters)\n",
    "        \n",
    "        if (i%10 == 0):\n",
    "            print('The cost for {0} measurement sampling is {1}\\n'.format(num_shots, cost(parameters)))\n",
    "            print('The parameters are {0}\\n'.format(parameters))\n",
    "    all_costs.append(costs)\n",
    "\n",
    "    p = [0, 0, 0, 0]\n",
    "    p[0], p[1], p[2], p[3] = bell_state(parameters)\n",
    "    print('Final probability of states is as follows: \\n')\n",
    "    print('\\n Probality of 00 is: {0} \\n Probality of 01 is: {1} \\n Probality of 10 is: {2} \\n Probality of 11 is: {3}'.format(p[0], p[1], p[2], p[3]))\n",
    "    prob.append(p)"
   ]
  },
  {
   "cell_type": "code",
   "execution_count": 10,
   "metadata": {},
   "outputs": [
    {
     "name": "stdout",
     "output_type": "stream",
     "text": [
      "We get the final parameters as [1.56735678 2.93665485] for first and second qubit respectively with noisy simulations.\n"
     ]
    }
   ],
   "source": [
    "print('We get the final parameters as {0} for first and second qubit respectively with noisy simulations.'.format(parameters))"
   ]
  },
  {
   "cell_type": "markdown",
   "metadata": {},
   "source": [
    "### Probability Distribution"
   ]
  },
  {
   "cell_type": "code",
   "execution_count": 11,
   "metadata": {},
   "outputs": [
    {
     "data": {
      "text/plain": [
       "<BarContainer object of 4 artists>"
      ]
     },
     "execution_count": 11,
     "metadata": {},
     "output_type": "execute_result"
    },
    {
     "data": {
      "image/png": "[encoded data removed]",
      "text/plain": [
       "<Figure size 432x288 with 1 Axes>"
      ]
     },
     "metadata": {
      "needs_background": "light"
     },
     "output_type": "display_data"
    }
   ],
   "source": [
    "plt.bar(['00','01','10', '11'], prob[0]) #Probability Distribution for shots 1"
   ]
  },
  {
   "cell_type": "code",
   "execution_count": 12,
   "metadata": {},
   "outputs": [
    {
     "data": {
      "text/plain": [
       "<BarContainer object of 4 artists>"
      ]
     },
     "execution_count": 12,
     "metadata": {},
     "output_type": "execute_result"
    },
    {
     "data": {
      "image/png": "[encoded data removed]",
      "text/plain": [
       "<Figure size 432x288 with 1 Axes>"
      ]
     },
     "metadata": {
      "needs_background": "light"
     },
     "output_type": "display_data"
    }
   ],
   "source": [
    "plt.bar(['00','01','10', '11'], prob[1]) #Probability Distribution for shots 10"
   ]
  },
  {
   "cell_type": "code",
   "execution_count": 13,
   "metadata": {},
   "outputs": [
    {
     "data": {
      "text/plain": [
       "<BarContainer object of 4 artists>"
      ]
     },
     "execution_count": 13,
     "metadata": {},
     "output_type": "execute_result"
    },
    {
     "data": {
      "image/png": "[encoded data removed]",
      "text/plain": [
       "<Figure size 432x288 with 1 Axes>"
      ]
     },
     "metadata": {
      "needs_background": "light"
     },
     "output_type": "display_data"
    }
   ],
   "source": [
    "plt.bar(['00','01','10', '11'], prob[2])  #Probability Distribution for shots 100"
   ]
  },
  {
   "cell_type": "code",
   "execution_count": 14,
   "metadata": {},
   "outputs": [
    {
     "data": {
      "text/plain": [
       "<BarContainer object of 4 artists>"
      ]
     },
     "execution_count": 14,
     "metadata": {},
     "output_type": "execute_result"
    },
    {
     "data": {
      "image/png": "[encoded data removed]",
      "text/plain": [
       "<Figure size 432x288 with 1 Axes>"
      ]
     },
     "metadata": {
      "needs_background": "light"
     },
     "output_type": "display_data"
    }
   ],
   "source": [
    "plt.bar(['00','01','10', '11'], prob[3])   #Probability Distribution for shots 1000"
   ]
  },
  {
   "cell_type": "markdown",
   "metadata": {},
   "source": [
    "### Evolution of cost"
   ]
  },
  {
   "cell_type": "code",
   "execution_count": 15,
   "metadata": {},
   "outputs": [
    {
     "data": {
      "image/png": "[encoded data removed]",
      "text/plain": [
       "<Figure size 432x288 with 1 Axes>"
      ]
     },
     "metadata": {
      "needs_background": "light"
     },
     "output_type": "display_data"
    }
   ],
   "source": [
    "plt.plot(all_costs[0], label =\"00\")\n",
    "plt.plot(all_costs[1], label =\"01\")\n",
    "plt.plot(all_costs[2], label =\"10\")\n",
    "plt.plot(all_costs[3], label =\"11\")\n",
    "plt.ylabel('Cost evolution')\n",
    "plt.legend()\n",
    "plt.show()"
   ]
  },
  {
   "cell_type": "markdown",
   "metadata": {},
   "source": [
    "#### Noiseless Simulation"
   ]
  },
  {
   "cell_type": "code",
   "execution_count": 16,
   "metadata": {},
   "outputs": [
    {
     "name": "stdout",
     "output_type": "stream",
     "text": [
      "--------------------------------\n",
      "\n",
      "For 1000 shots\n",
      "\n",
      "The cost for 1000 measurement sampling is 0.984392\n",
      "\n",
      "The parameters are [-0.67288589  0.7471651 ]\n",
      "\n",
      "The cost for 1000 measurement sampling is 0.014538000000000002\n",
      "\n",
      "The parameters are [-1.55622269  2.5330897 ]\n",
      "\n",
      "The cost for 1000 measurement sampling is 0.004417999999999999\n",
      "\n",
      "The parameters are [-1.54857329  2.7282769 ]\n",
      "\n",
      "The cost for 1000 measurement sampling is 0.004615999999999999\n",
      "\n",
      "The parameters are [-1.57070489  2.8006915 ]\n",
      "\n",
      "Final probability of states is as follows: \n",
      "\n",
      "\n",
      " Probality of 00 is: 0.012 \n",
      " Probality of 01 is: 0.497 \n",
      " Probality of 10 is: 0.485 \n",
      " Probality of 11 is: 0.006\n"
     ]
    }
   ],
   "source": [
    "prob = []\n",
    "all_costs = []\n",
    "\n",
    "for num_shots in [1000]:\n",
    "    dev_noiseless.shots = num_shots\n",
    "    initial_parameters = np.random.randn(2) #starting with random parameters\n",
    "    \n",
    "    steps = 40 # Number of steps of optimization\n",
    "    \n",
    "    parameters = initial_parameters.copy()\n",
    "    \n",
    "    optimizer = qml.GradientDescentOptimizer(stepsize=0.6) #The Gradient Descent Optimizer\n",
    "    \n",
    "    costs = []\n",
    "    \n",
    "    print('--------------------------------\\n')\n",
    "    print('For {0} shots\\n'.format(num_shots))\n",
    "    for i in range(steps):\n",
    "        costs.append(cost_noiseless(parameters))\n",
    "        parameters = optimizer.step(cost_noiseless, parameters)\n",
    "        \n",
    "        if (i%10 == 0):\n",
    "            print('The cost for {0} measurement sampling is {1}\\n'.format(num_shots, cost(parameters)))\n",
    "            print('The parameters are {0}\\n'.format(parameters))\n",
    "    all_costs.append(costs)\n",
    "\n",
    "    p = [0, 0, 0, 0]\n",
    "    p[0], p[1], p[2], p[3] = bell_state_noiseless(parameters)\n",
    "    print('Final probability of states is as follows: \\n')\n",
    "    print('\\n Probality of 00 is: {0} \\n Probality of 01 is: {1} \\n Probality of 10 is: {2} \\n Probality of 11 is: {3}'.format(p[0], p[1], p[2], p[3]))\n",
    "    prob.append(p)"
   ]
  },
  {
   "cell_type": "code",
   "execution_count": 17,
   "metadata": {},
   "outputs": [
    {
     "data": {
      "text/plain": [
       "<BarContainer object of 4 artists>"
      ]
     },
     "execution_count": 17,
     "metadata": {},
     "output_type": "execute_result"
    },
    {
     "data": {
      "image/png": "[encoded data removed]",
      "text/plain": [
       "<Figure size 432x288 with 1 Axes>"
      ]
     },
     "metadata": {
      "needs_background": "light"
     },
     "output_type": "display_data"
    }
   ],
   "source": [
    "plt.bar(['00','01','10', '11'], prob[0])   #Probability Distribution for shots 1000"
   ]
  },
  {
   "cell_type": "markdown",
   "metadata": {},
   "source": [
    "#### Conclusion\n",
    "\n",
    "We clearly see through this output that cost reduces significantly with the increase in shots, and we also get a precise probability through that. Noiseless simulation, as expected, increase the precision."
   ]
  },
  {
   "cell_type": "markdown",
   "metadata": {},
   "source": [
    "### Bonus\n",
    "\n",
    "How do we prepare $|01\\rangle + |10\\rangle$ and not $|01\\rangle - |10\\rangle$?\n",
    "\n",
    "#### Solution\n",
    "\n",
    "First we define the same circuit but find the expectation value of X $\\otimes$ X operator. The value $|01\\rangle + |10\\rangle$ is +1 and $|01\\rangle - |10\\rangle$ is -1, as shown below,"
   ]
  },
  {
   "cell_type": "code",
   "execution_count": 18,
   "metadata": {},
   "outputs": [
    {
     "data": {
      "text/plain": [
       "1.0"
      ]
     },
     "execution_count": 18,
     "metadata": {},
     "output_type": "execute_result"
    }
   ],
   "source": [
    "number_qubits = 2\n",
    "\n",
    "dev1 = qml.device(\"default.qubit\", wires=number_qubits, shots=1000, analytic=False)\n",
    "#initialized the device with analytics= False because we will change the no. of shots for sampling\n",
    "\n",
    "@qml.qnode(dev1)\n",
    "def c_plus():\n",
    "    \n",
    "    qml.Hadamard(wires=0)\n",
    "\n",
    "    qml.PauliX(wires=1)\n",
    "    qml.CNOT(wires=[0, 1])\n",
    "    return qml.expval(qml.PauliX(0)@(qml.PauliX(1)))\n",
    "c_plus()"
   ]
  },
  {
   "cell_type": "code",
   "execution_count": 19,
   "metadata": {},
   "outputs": [
    {
     "data": {
      "text/plain": [
       "-1.0"
      ]
     },
     "execution_count": 19,
     "metadata": {},
     "output_type": "execute_result"
    }
   ],
   "source": [
    "number_qubits = 2\n",
    "\n",
    "dev1 = qml.device(\"default.qubit\", wires=number_qubits, shots=1000, analytic=False)\n",
    "#initialized the device with analytics= False because we will change the no. of shots for sampling\n",
    "\n",
    "@qml.qnode(dev1)\n",
    "def c_minus():\n",
    "    qml.PauliX(wires=0)\n",
    "    qml.Hadamard(wires=0)\n",
    "\n",
    "    qml.PauliX(wires=1)\n",
    "    qml.CNOT(wires=[0, 1])\n",
    "    return qml.expval(qml.PauliX(0)@(qml.PauliX(1)))\n",
    "c_minus()"
   ]
  },
  {
   "cell_type": "markdown",
   "metadata": {},
   "source": [
    "#### Parametrized circuit \n",
    "\n",
    "We redefine the circuit because we expect the parametric value for first RY gate to $\\tfrac{\\pi}{2}$ and second RY to be $\\pi$. Hence we give first RY gate the parameter values theta and second RY gate 2*theta\n",
    "\n",
    "#### Reason\n",
    "RY = $\\begin{bmatrix} cos(\\tfrac{\\theta}{2}) & -sin(\\tfrac{\\theta}{2}) \\\\ sin(\\tfrac{\\theta}{2}) & cos(\\tfrac{\\theta}{2}) & \\end{bmatrix} $ \n",
    "\n",
    "RY($\\pi$) = $\\begin{bmatrix} 0 & -1 \\\\ 1 & 0 \\end{bmatrix}$\n",
    "\n",
    "RY($\\tfrac{\\pi}{2}$) = $\\frac{1}{\\sqrt{2}}\\begin{bmatrix} 1 & -1 \\\\ 1 & 1 \\end{bmatrix}$\n",
    "\n",
    "For first qubit:\n",
    "\n",
    "$\\frac{1}{\\sqrt{2}}\\begin{bmatrix} 1 & -1 \\\\ 1 & 1 \\end{bmatrix}\\begin{bmatrix} 1 \\\\ 0 \\end{bmatrix} = \\frac{1}{\\sqrt{2}}\\begin{bmatrix} 1 \\\\ 1 \\end{bmatrix} = \\frac{1}{\\sqrt{2}} (|0\\rangle + |1\\rangle)$\n",
    "\n",
    "For second qubit:\n",
    "\n",
    "$\\begin{bmatrix} 0 & -1 \\\\ 1 & 0 \\end{bmatrix}\\begin{bmatrix} 1 \\\\ 0 \\end{bmatrix} = \\begin{bmatrix} 0 \\\\ 1 \\end{bmatrix} =  |1\\rangle$\n",
    "\n",
    "Hence the required state:\n",
    "\n",
    "$\\frac{1}{\\sqrt{2}} (|0\\rangle + |1\\rangle)\\otimes |1\\rangle$"
   ]
  },
  {
   "cell_type": "code",
   "execution_count": 20,
   "metadata": {},
   "outputs": [],
   "source": [
    "number_qubits = 2\n",
    "\n",
    "dev = qml.device(\"default.qubit\", wires=number_qubits, shots=1000, analytic=False)\n",
    "\n",
    "@qml.qnode(dev)\n",
    "def qc(theta):\n",
    "    qml.RY(theta[0], wires=0)\n",
    "    \n",
    "    qml.RY(theta[0]*2, wires=1)\n",
    "    \n",
    "    qml.CNOT(wires=[0, 1])\n",
    "    \n",
    "    return qml.expval(qml.PauliX(0) @ qml.PauliX(1))"
   ]
  },
  {
   "cell_type": "markdown",
   "metadata": {},
   "source": [
    "Now we redefine the cost function,"
   ]
  },
  {
   "cell_type": "code",
   "execution_count": 21,
   "metadata": {},
   "outputs": [],
   "source": [
    "def cost(theta):\n",
    "    val = qc(theta)\n",
    "    return -1*val"
   ]
  },
  {
   "cell_type": "code",
   "execution_count": 22,
   "metadata": {},
   "outputs": [
    {
     "name": "stdout",
     "output_type": "stream",
     "text": [
      "\n",
      "The final parameters for 1000 measurement sampling are: [1.55844953]\n",
      "The expectation value is: 1.0\n"
     ]
    }
   ],
   "source": [
    "num_shots = 1000\n",
    "dev.shots = num_shots\n",
    "initial_parameters = np.random.randn(1) #starting with random parameters\n",
    "    \n",
    "steps = 100 # Number of steps of optimization\n",
    "    \n",
    "parameters = initial_parameters.copy()\n",
    "    \n",
    "optimizer = qml.GradientDescentOptimizer(stepsize=0.6) #The Gradient Descent Optimizer\n",
    "    \n",
    "costs = []\n",
    "    \n",
    "for i in range(steps):\n",
    "    costs.append(cost(parameters))\n",
    "    parameters = optimizer.step(cost, parameters)\n",
    "\n",
    "print('\\nThe final parameters for {0} measurement sampling are: {1}'.format(num_shots, parameters))\n",
    "val = qc(parameters)\n",
    "print('The expectation value is: {0}'.format(val))"
   ]
  },
  {
   "cell_type": "code",
   "execution_count": null,
   "metadata": {},
   "outputs": [],
   "source": []
  }
 ],
 "metadata": {
  "kernelspec": {
   "display_name": "Python 3",
   "language": "python",
   "name": "python3"
  },
  "language_info": {
   "codemirror_mode": {
    "name": "ipython",
    "version": 3
   },
   "file_extension": ".py",
   "mimetype": "text/x-python",
   "name": "python",
   "nbconvert_exporter": "python",
   "pygments_lexer": "ipython3",
   "version": "3.6.12"
  }
 },
 "nbformat": 4,
 "nbformat_minor": 4
}
