{
 "cells": [
  {
   "cell_type": "markdown",
   "metadata": {},
   "source": [
    "# Multiple Qubit Gates\n",
    "\n",
    "A unitary transformation on multiple qubits is considered a multiple qubit gate.\n",
    "Such multiple qubit gates can be a gate in themselves or be a tensor product of single qubit gates applied simultaneously on individual qubits.\n",
    "\n",
    "Below is an example of multiple qubit gate applied as single qubit gates $X$ and $Z$.\n",
    "\n",
    "\\begin{equation}\n",
    "X = \\begin{bmatrix} 0 & 1 \\\\ 1 & 0 \\end{bmatrix}\n",
    "Z = \\begin{bmatrix} 1 & 0 \\\\ 0 & -1 \\end{bmatrix} \\\\\n",
    "X \\otimes Z = \\begin{bmatrix} 0 & 1 \\\\ 1 & 0 \\end{bmatrix} \\otimes \\begin{bmatrix} 1 & 0 \\\\ 0 & -1 \\end{bmatrix}\n",
    "= \\begin{bmatrix} 0 & 0 & 1 & 0 \\\\ 0 & 0 & 0 & -1 \\\\ 1 & 0 & 0 & 0 \\\\ 0 & -1 & 0 & 0 \\end{bmatrix}\n",
    "\\end{equation}\n",
    "\n",
    "Below is an example of an arbitrary two-qubit gate.\n",
    "\n",
    "\\begin{equation}\n",
    "U = \\begin{bmatrix} 1 & 0 & 0 & 0 \\\\ 0 & \\frac{1}{\\sqrt{2}} & \\frac{-1}{\\sqrt{2}} & 0 \\\\ 0 & \\frac{1}{\\sqrt{2}} & \\frac{1}{\\sqrt{2}} & 0 \\\\ 0 & 0 & 0 & 1\\end{bmatrix}\n",
    "\\end{equation}"
   ]
  },
  {
   "cell_type": "markdown",
   "metadata": {},
   "source": [
    "## Controlled Gates\n",
    "\n",
    "A commonly used class of multi-qubit gates is the controlled gates.\n",
    "Controlled gates have a set of source qubits and a set of target qubits.\n",
    "The desired operation is applied on target qubits only when the source qubits are set and, hence, \"controlled\" by them.\n",
    "\n",
    "The controlled gate named $CNOT$ is a widely used one.\n",
    "It applies the $NOT$ gate ($X$ gate) on the target qubit iff the source qubit is set.\n",
    "It has the following matrix representation:\n",
    "\\begin{equation}\n",
    "CNOT = \\begin{bmatrix} 1 & 0 & 0 & 0 \\\\ 0 & 1 & 0 & 0 \\\\ 0 & 0 & 0 & 1 \\\\ 0 & 0 & 1 & 0\\end{bmatrix}\n",
    "\\end{equation}"
   ]
  },
  {
   "cell_type": "code",
   "execution_count": null,
   "metadata": {},
   "outputs": [],
   "source": []
  }
 ],
 "metadata": {
  "kernelspec": {
   "display_name": "Python 3",
   "language": "python",
   "name": "python3"
  },
  "language_info": {
   "codemirror_mode": {
    "name": "ipython",
    "version": 3
   },
   "file_extension": ".py",
   "mimetype": "text/x-python",
   "name": "python",
   "nbconvert_exporter": "python",
   "pygments_lexer": "ipython3",
   "version": "3.6.9"
  }
 },
 "nbformat": 4,
 "nbformat_minor": 4
}
