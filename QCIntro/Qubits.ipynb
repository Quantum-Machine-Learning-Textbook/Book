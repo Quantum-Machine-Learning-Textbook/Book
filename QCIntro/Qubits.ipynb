{
 "cells": [
  {
   "cell_type": "markdown",
   "metadata": {},
   "source": [
    "# Qubits"
   ]
  },
  {
   "cell_type": "markdown",
   "metadata": {},
   "source": [
    "## Classical Binary Digits (Bits)\n",
    "\n",
    "Bits are the basic unit of information in classical computation, often represented by 0 and 1. Physically implemented using electronic circuits like Flip-Flops, a bit can be present in either 0 or 1 at a given time. Any information can be encoded using this basic unit. To get better precision, we can simply use more number of bits, thereby taking up more memory."
   ]
  },
  {
   "cell_type": "markdown",
   "metadata": {},
   "source": [
    "## Quantum Binary Digits (Qubits)\n",
    "\n",
    "Quantum Bits, referred to as qubits, are the quantum analogue of bits. Qubits are, therefore, the basic unit of information in quantum computation and hence, a generalisation of the bits.\n",
    "A convenient way of representing qubits is the statevector notation which uses a column vector representation for the state of the qubits. For the classical 0 and 1, the qubit is represented by:\n",
    "\n",
    "\\begin{equation}\n",
    "    |0\\rangle = \\begin{bmatrix} 1 \\\\ 0 \\end{bmatrix} \\, \\, \\, \\, |1\\rangle =\\begin{bmatrix} 0 \\\\ 1 \\end{bmatrix}\n",
    "\\end{equation}\n",
    "\n",
    "Note that these two vectors form an orthogonal basis."
   ]
  },
  {
   "cell_type": "markdown",
   "metadata": {},
   "source": [
    "### Dirac Notation\n",
    "The above notation, $|\\psi\\rangle$, was introduced by Paul Dirac, and hence is also commonly called the Dirac notation or Bra-Ket notation.\n",
    "$|\\psi\\rangle$ is called \"Ket Psi\" (as \"Ket Zero\" for $|0\\rangle$).\n",
    "The conjugate transpose of $|\\psi\\rangle$ is represented by $\\langle\\psi|$, called \"Bra Psi\" (as \"Bra Zero\" for $\\langle0|$)."
   ]
  },
  {
   "cell_type": "markdown",
   "metadata": {},
   "source": [
    "# Superposition\n",
    "\n",
    "What makes qubits a generalisation of classical bits is the property of being in a \"superposition\" of states.\n",
    "\n",
    "\\begin{equation}\n",
    "    |\\psi\\rangle = \\begin{bmatrix} \\alpha \\\\ \\beta \\end{bmatrix}\n",
    "\\end{equation}\n",
    "\n",
    "which is equivalent to writing\n",
    "\n",
    "\\begin{equation}\n",
    "    |\\psi\\rangle = \\alpha \\begin{bmatrix} 1 \\\\ 0 \\end{bmatrix} + \\beta \\begin{bmatrix} 0 \\\\ 1 \\end{bmatrix} \\\\\n",
    "                 = \\alpha |0\\rangle + \\beta |1\\rangle\n",
    "\\end{equation}\n",
    "\n",
    "Here, the $\\alpha$ and $\\beta$ are complex numbers which represent what are called the \"Probability Amplitude\" of $|0\\rangle$ and $|1\\rangle$.\n",
    "It is the square (more technically, the L2 norm) of this probability amplitude which gives the actual probability of obtaining the corresponding state upon measurement.\n",
    "Since the sum of probabilities is always equal to 1, $|\\alpha|^2 + |\\beta|^2 = 1$, for any state $|\\psi\\rangle$."
   ]
  },
  {
   "cell_type": "markdown",
   "metadata": {},
   "source": [
    "# Measurement\n",
    "\n",
    "Measurement of a qubit can be thought of as observing the state of the qubit. It is an operation which \"collapses\" the state of the qubit into the measured state.\n",
    "For a qubit $|\\psi\\rangle = \\alpha|0\\rangle + \\beta|1\\rangle$, when measured in the computational basis ($|0\\rangle$ and $|1\\rangle$), the probabilities of measuring the state to be $|0\\rangle$ is $|\\alpha|^2$, and $|1\\rangle$ is $|\\beta|^2$.\n",
    "\n",
    "The probability of observing a state $|\\phi\\rangle$ upon measuring a qubit $|\\psi\\rangle$ can be calculated by:\n",
    "\\begin{equation}\n",
    "    P(\\phi) = |\\langle\\phi|\\psi\\rangle|^2\n",
    "\\end{equation}\n",
    "\n",
    "We can easily verify our knowledge of the probabilities of measuring $|0\\rangle$ and $|1\\rangle$ using the above formula."
   ]
  }
 ],
 "metadata": {
  "kernelspec": {
   "display_name": "Python 3",
   "language": "python",
   "name": "python3"
  },
  "language_info": {
   "codemirror_mode": {
    "name": "ipython",
    "version": 3
   },
   "file_extension": ".py",
   "mimetype": "text/x-python",
   "name": "python",
   "nbconvert_exporter": "python",
   "pygments_lexer": "ipython3",
   "version": "3.6.9"
  }
 },
 "nbformat": 4,
 "nbformat_minor": 4
}
