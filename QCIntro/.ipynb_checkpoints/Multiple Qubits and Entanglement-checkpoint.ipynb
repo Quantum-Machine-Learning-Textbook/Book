{
 "cells": [
  {
   "cell_type": "markdown",
   "metadata": {},
   "source": [
    "# Multiple Qubits\n",
    "\n",
    "Single qubits, though interesting, are not quite powerful.\n",
    "To unleash all the potential of a quantum computer, we need to exploit the the way multiple qubits interact with each other.\n",
    "Notationally, it is quite similar to the single qubit case.\n",
    "\n",
    "As in the case of 2 qubits:\n",
    "\\begin{equation}\n",
    "|\\psi\\rangle = \\psi_{00}|00\\rangle + \\psi_{01}|01\\rangle + \\psi_{10}|10\\rangle + \\psi_{11}|11\\rangle\n",
    "= \\begin{bmatrix} \\psi_{00} \\\\ \\psi_{01} \\\\ \\psi_{10} \\\\ \\psi_{11} \\end{bmatrix}\n",
    "\\end{equation}\n",
    "\n",
    "This can be similarly extended for $n$ number of qubits.\n",
    "The important and interesting thing to note here is that the size of the statevector grows exponentially with $n$ (equal to $2^n$)."
   ]
  },
  {
   "cell_type": "markdown",
   "metadata": {},
   "source": [
    "## Tensor Product\n",
    "\n",
    "When we have the state of the individual qubits in a multiple qubit system, we can represent the combined state of the system by the tensor product of the individual qubits.\n",
    "\n",
    "For 2 qubits, $a$ and $b$,\n",
    "\n",
    "\\begin{equation}\n",
    "|a\\rangle = a_0|0\\rangle + a_1|1\\rangle = \\begin{bmatrix} a_0 \\\\ a_1 \\end{bmatrix} \\\\\n",
    "|b\\rangle = b_0|0\\rangle + b_1|1\\rangle = \\begin{bmatrix} b_0 \\\\ b_1 \\end{bmatrix} \\\\\n",
    "\\end{equation}\n",
    "\n",
    "We can write the combined system as\n",
    "\\begin{equation}\n",
    "|ab\\rangle = |a\\rangle \\otimes |b\\rangle = \\begin{bmatrix} a_0 \\times \\begin{bmatrix} b_0 \\\\ b_1 \\end{bmatrix} \\\\ a_1 \\times \\begin{bmatrix} b_0 \\\\ b_1 \\end{bmatrix} \\end{bmatrix} = \\begin{bmatrix} a_0 b_0 \\\\ a_0 b_1 \\\\ a_1 b_0 \\\\ a_1 b_1 \\end{bmatrix} \\\\\n",
    "\\end{equation}\n",
    "Or, alternatively as\n",
    "\\begin{equation}\n",
    "|ab\\rangle = a_0|0\\rangle \\otimes (b_0|0\\rangle + b_1|1\\rangle) + a_1|1\\rangle \\otimes (b_0|0\\rangle + b_1|1\\rangle) \\\\\n",
    "|ab\\rangle = a_0 b_0|00\\rangle + a_0 b_1|01\\rangle + a_1 b_0|10\\rangle + a_1 b_1|11\\rangle\n",
    "\\end{equation}\n",
    "\n",
    "and this can further be scaled to any number of qubits."
   ]
  },
  {
   "cell_type": "markdown",
   "metadata": {},
   "source": [
    "# Entanglement\n",
    "\n",
    "We can describe the combined state of a multi-qubit system if we know the state of the constituent sub-systems.\n",
    "However, there are systems of qubits whose state cannot be described as the tensor product of its constituent sub-systems.\n",
    "Such systems are called \"entangled\" in nature.\n",
    "This property of entanglement is one of the most fundamentally important quantum mechanical property and is exploited a great deal in various of use cases.\n",
    "\n",
    "For example, let us take the quantum state as described below\n",
    "\\begin{equation}\n",
    "|\\psi\\rangle = a|00\\rangle + b|11\\rangle \\\\\n",
    "a,b \\neq 0\n",
    "\\end{equation}\n",
    "This state cannot be expressed as a tensor product of $2$ qubits, and, hence, is an entangled state."
   ]
  },
  {
   "cell_type": "markdown",
   "metadata": {},
   "source": [
    "## Bell States\n",
    "\n",
    "A commonly used set of entangled states which are orthogonal to each other is the set of Bell states which is\n",
    "\n",
    "\\begin{equation}\n",
    "|\\Phi^+\\rangle = \\frac{|00\\rangle + |11\\rangle}{\\sqrt{2}} \\\\\n",
    "|\\Phi^-\\rangle = \\frac{|00\\rangle - |11\\rangle}{\\sqrt{2}} \\\\\n",
    "|\\Psi^+\\rangle = \\frac{|01\\rangle + |10\\rangle}{\\sqrt{2}} \\\\\n",
    "|\\Psi^-\\rangle = \\frac{|01\\rangle - |10\\rangle}{\\sqrt{2}}\n",
    "\\end{equation}"
   ]
  }
 ],
 "metadata": {
  "kernelspec": {
   "display_name": "Python 3",
   "language": "python",
   "name": "python3"
  },
  "language_info": {
   "codemirror_mode": {
    "name": "ipython",
    "version": 3
   },
   "file_extension": ".py",
   "mimetype": "text/x-python",
   "name": "python",
   "nbconvert_exporter": "python",
   "pygments_lexer": "ipython3",
   "version": "3.6.9"
  }
 },
 "nbformat": 4,
 "nbformat_minor": 4
}
