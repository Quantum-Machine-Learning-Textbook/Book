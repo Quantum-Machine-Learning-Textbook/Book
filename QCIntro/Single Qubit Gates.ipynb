{
 "cells": [
  {
   "cell_type": "markdown",
   "metadata": {},
   "source": [
    "# Single Qubit Gates\n",
    "\n",
    "Unlike the gates (like AND and OR) in classical computation, quantum gates are reversible in nature, which means that they map a unique input to a unique output.\n",
    "These gates are represented by using unitary matrices and conversely, any unitary matrix can be thought of as a valid quantum gate."
   ]
  },
  {
   "cell_type": "markdown",
   "metadata": {},
   "source": [
    "## Pauli Gates\n",
    "\n",
    "Some of the commonly used single-qubit gates are:\n",
    "\n",
    "\\begin{equation}\n",
    "    X = \\begin{bmatrix} 0 & 1 \\\\ 1 & 0 \\end{bmatrix} = |0\\rangle\\langle1| + |1\\rangle\\langle0| \\quad\\quad\\quad\\quad Y = \\begin{bmatrix} 0 & -i \\\\ i & 0 \\end{bmatrix} = -i|0\\rangle\\langle1| + i|1\\rangle\\langle0|\n",
    "\\end{equation}\n",
    "\n",
    "\\begin{equation}\n",
    "    Z = \\begin{bmatrix} 1 & 0 \\\\ 0 & -1 \\end{bmatrix} = |0\\rangle\\langle0| - |1\\rangle\\langle1| \\quad\\quad\\quad\\quad H = \\frac{1}{\\sqrt{2}} \\begin{bmatrix} 1 & 1 \\\\ 1 & -1 \\end{bmatrix} = \\left(\\frac{|0\\rangle + |1\\rangle}{\\sqrt{2}}\\right)\\langle0| + \\left(\\frac{|0\\rangle - |1\\rangle}{\\sqrt{2}}\\right)\\langle1|\n",
    "\\end{equation}\n"
   ]
  },
  {
   "cell_type": "markdown",
   "metadata": {},
   "source": [
    "# Bloch Sphere\n",
    "\n",
    "A convenient way of visualising a single qubit is the Bloch Sphere.\n",
    "We can represent a single qubit state with 3 real numbers $\\alpha$, $\\beta$ and $\\phi$, instead of only $\\alpha$ and $\\beta$ as complex numbers.\n",
    "Note that this is possible because the global phase does not matter, and only the relative phase ($\\phi$) matters.\n",
    "\n",
    "\\begin{equation}\n",
    "    |\\psi\\rangle = \\alpha|0\\rangle + e^{i\\phi}\\beta|1\\rangle\n",
    "\\end{equation}\n",
    "\n",
    "For normalisation, we know that $\\sqrt{\\alpha^2 + \\beta^2} = 1$.\n",
    "Hence, we can describe $\\alpha$ and $\\beta$ using a single variable $\\theta$ as $\\alpha = \\cos{\\tfrac{\\theta}{2}}$ and $\\beta=\\sin{\\tfrac{\\theta}{2}}$.\n",
    "\n",
    "So, for real $\\theta$ and $\\phi$, we get\n",
    "\n",
    "\\begin{equation}\n",
    "    |\\psi\\rangle = \\cos{\\tfrac{\\theta}{2}}|0\\rangle + e^{i\\phi}\\sin{\\tfrac{\\theta}{2}}|1\\rangle\n",
    "\\end{equation}\n",
    "\n",
    "Using $\\theta$ and $\\phi$ as the polar coordinates, we can map any single qubit state to a point on a sphere of radius $1$.\n",
    "This sphere is called the Bloch Sphere."
   ]
  },
  {
   "cell_type": "markdown",
   "metadata": {},
   "source": [
    "## Rotation Gates\n",
    "\n",
    "With respect to the Bloch Sphere (defined above), we have the rotation gates along the 3 axes, namely RX, RY and RZ.\n",
    "These gates perform a rotation of the qubit vector along the specified axis by an angle $\\theta$.\n",
    "\n",
    "\\begin{align}\\begin{aligned}\\newcommand{\\th}{\\frac{\\theta}{2}}\\\\\\begin{split}RX(\\theta) = \n",
    "    \\begin{pmatrix}\n",
    "        \\cos{\\th}   & -i\\sin{\\th} \\\\\n",
    "        -i\\sin{\\th} & \\cos{\\th}\n",
    "    \\end{pmatrix}\\end{split}\\end{aligned}\n",
    "\\end{align}\n",
    "\n",
    "\\begin{align}\\begin{aligned}\\\\\\begin{split}RY(\\theta) =\n",
    "    \\begin{pmatrix}\n",
    "        \\cos{\\th} & -\\sin{\\th} \\\\\n",
    "        \\sin{\\th} & \\cos{\\th}\n",
    "    \\end{pmatrix}\\end{split}\\end{aligned}\n",
    "\\end{align}\n",
    "\n",
    "\\begin{align}\\begin{aligned}\\\\\\begin{split}RZ(\\theta) =\n",
    "    \\begin{pmatrix}\n",
    "        e^{-i\\th} & 0 \\\\\n",
    "        0 & e^{i\\th}\n",
    "    \\end{pmatrix}\\end{split}\\end{aligned}\n",
    "\\end{align}\n"
   ]
  }
 ],
 "metadata": {
  "kernelspec": {
   "display_name": "Python 3",
   "language": "python",
   "name": "python3"
  },
  "language_info": {
   "codemirror_mode": {
    "name": "ipython",
    "version": 3
   },
   "file_extension": ".py",
   "mimetype": "text/x-python",
   "name": "python",
   "nbconvert_exporter": "python",
   "pygments_lexer": "ipython3",
   "version": "3.6.9"
  }
 },
 "nbformat": 4,
 "nbformat_minor": 4
}
